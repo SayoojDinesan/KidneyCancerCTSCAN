{
  "nbformat": 4,
  "nbformat_minor": 0,
  "metadata": {
    "colab": {
      "provenance": [],
      "mount_file_id": "1sAqQSiCs0eVlLQL1icYmp--ZBg4aGAKg",
      "authorship_tag": "ABX9TyOxjXBSJ4M8p5W4H207iALa",
      "include_colab_link": true
    },
    "kernelspec": {
      "name": "python3",
      "display_name": "Python 3"
    },
    "language_info": {
      "name": "python"
    }
  },
  "cells": [
    {
      "cell_type": "markdown",
      "metadata": {
        "id": "view-in-github",
        "colab_type": "text"
      },
      "source": [
        "<a href=\"https://colab.research.google.com/github/SayoojDinesan/KidneyCancerCTSCAN/blob/main/Sayooj_Dinesan_Kidney_Problem_Identifier_CT_Scan_Images.ipynb\" target=\"_parent\"><img src=\"https://colab.research.google.com/assets/colab-badge.svg\" alt=\"Open In Colab\"/></a>"
      ]
    },
    {
      "cell_type": "code",
      "execution_count": null,
      "metadata": {
        "id": "bmsisi8GIFm7"
      },
      "outputs": [],
      "source": [
        "!pip install -q keras\n",
        "from keras import applications\n",
        "from keras.preprocessing.image import ImageDataGenerator\n",
        "from keras import optimizers\n",
        "from keras.models import Sequential\n",
        "from keras.layers import Dropout, Flatten, Dense, GlobalAveragePooling2D\n",
        "from keras.models import Model\n",
        "from keras.optimizers import Adam"
      ]
    },
    {
      "cell_type": "code",
      "source": [
        "train_data_dir = \"/content/drive/MyDrive/CT_KIDNEY_DATASET_Normal_Cyst_Tumor_Stone/CT_KIDNEY_DATASET_Normal_Cyst_Tumor_Stone/Training_Data\"\n",
        "val_data_dir = \"/content/drive/MyDrive/CT_KIDNEY_DATASET_Normal_Cyst_Tumor_Stone/CT_KIDNEY_DATASET_Normal_Cyst_Tumor_Stone/Validation_Data\"\n"
      ],
      "metadata": {
        "id": "nxhMSqHvP6zE"
      },
      "execution_count": null,
      "outputs": []
    },
    {
      "cell_type": "code",
      "source": [
        "img_width = 512\n",
        "img_height = 512\n",
        "\n",
        "train_samples = 280\n",
        "val_samples = 80\n",
        "\n",
        "epochs = 20\n",
        "batch_size = 100\n",
        "\n",
        "'''\n",
        "import matplotlib.pyplot as plt\n",
        "for img in val_data_dir:\n",
        "  image = plt.imread(f\"{val_data_dir}/{img}\")\n",
        "  plt.imshow(image)\n",
        "'''"
      ],
      "metadata": {
        "colab": {
          "base_uri": "https://localhost:8080/",
          "height": 53
        },
        "id": "vg6GJK5rQqIW",
        "outputId": "f1e94a6e-19bc-4d84-c7fd-456736f3b6ff"
      },
      "execution_count": null,
      "outputs": [
        {
          "output_type": "execute_result",
          "data": {
            "text/plain": [
              "'\\nimport matplotlib.pyplot as plt\\nfor img in val_data_dir:\\n  image = plt.imread(f\"{val_data_dir}/{img}\")\\n  plt.imshow(image)\\n'"
            ],
            "application/vnd.google.colaboratory.intrinsic+json": {
              "type": "string"
            }
          },
          "metadata": {},
          "execution_count": 3
        }
      ]
    },
    {
      "cell_type": "code",
      "source": [
        "train_datagen = ImageDataGenerator(\n",
        "    rescale=1./255,\n",
        ")\n",
        "\n",
        "val_datagen = ImageDataGenerator(\n",
        "    rescale = 1./255\n",
        ")\n",
        "\n",
        "train_generator = train_datagen.flow_from_directory(\n",
        "    train_data_dir,\n",
        "    target_size=(img_height, img_width),\n",
        "    batch_size=batch_size,\n",
        "    class_mode = \"binary\"\n",
        ")\n",
        "\n",
        "val_generator = val_datagen.flow_from_directory(\n",
        "    val_data_dir,\n",
        "    target_size=(img_height, img_width),\n",
        "    batch_size=batch_size,\n",
        "    class_mode = \"binary\"\n",
        ")"
      ],
      "metadata": {
        "colab": {
          "base_uri": "https://localhost:8080/"
        },
        "id": "lX4xJ5L2ROQG",
        "outputId": "5687cc81-84e1-4b74-85a9-df4bf293802a"
      },
      "execution_count": null,
      "outputs": [
        {
          "output_type": "stream",
          "name": "stdout",
          "text": [
            "Found 140 images belonging to 2 classes.\n",
            "Found 40 images belonging to 2 classes.\n"
          ]
        }
      ]
    },
    {
      "cell_type": "code",
      "source": [
        "base_model = applications.InceptionV3(weights='imagenet', include_top=False, input_shape=(img_width, img_height, 3))\n",
        "\n",
        "model_top = Sequential()\n",
        "model_top.add(GlobalAveragePooling2D(input_shape=base_model.output_shape[1:], data_format=None)),\n",
        "model_top.add(Dense(256, activation='relu'))\n",
        "model_top.add(Dropout(0.5))\n",
        "model_top.add(Dense(1, activation='sigmoid'))\n",
        "\n",
        "model = Model(inputs=base_model.input, outputs=model_top(base_model.output))\n",
        "\n",
        "model.compile(optimizer=Adam(lr=0.0001, beta_1=0.9, beta_2=0.999, epsilon=1e-08,decay=0.0), loss='binary_crossentropy', metrics=['accuracy'])"
      ],
      "metadata": {
        "id": "8aeMLRdChLEN",
        "colab": {
          "base_uri": "https://localhost:8080/"
        },
        "outputId": "18c2318e-d742-4ec9-ea9f-8a0e47c86d7a"
      },
      "execution_count": null,
      "outputs": [
        {
          "output_type": "stream",
          "name": "stderr",
          "text": [
            "/usr/local/lib/python3.10/dist-packages/keras/optimizers/legacy/adam.py:117: UserWarning: The `lr` argument is deprecated, use `learning_rate` instead.\n",
            "  super().__init__(name, **kwargs)\n"
          ]
        }
      ]
    },
    {
      "cell_type": "code",
      "source": [
        "history = model.fit_generator(\n",
        "            train_generator,\n",
        "            steps_per_epoch=train_samples // batch_size,\n",
        "            epochs=epochs,\n",
        "            validation_data=val_generator,\n",
        "            validation_steps=val_samples // batch_size)"
      ],
      "metadata": {
        "colab": {
          "base_uri": "https://localhost:8080/"
        },
        "id": "bkZ19JZuhsxn",
        "outputId": "cfc64677-7d61-494c-f763-6188ddb91bba"
      },
      "execution_count": null,
      "outputs": [
        {
          "output_type": "stream",
          "name": "stderr",
          "text": [
            "<ipython-input-6-c7c9127d4ac4>:1: UserWarning: `Model.fit_generator` is deprecated and will be removed in a future version. Please use `Model.fit`, which supports generators.\n",
            "  history = model.fit_generator(\n"
          ]
        },
        {
          "output_type": "stream",
          "name": "stdout",
          "text": [
            "Epoch 1/20\n"
          ]
        }
      ]
    },
    {
      "cell_type": "code",
      "source": [
        "import numpy as np\n",
        "from tensorflow.keras.utils import load_img\n",
        "from tensorflow.keras.utils import img_to_array\n",
        "import matplotlib.pyplot as plt\n",
        "\n",
        "'''\n",
        "img_path='/content/drive/MyDrive/CT_KIDNEY_DATASET_Normal_Cyst_Tumor_Stone/CT_KIDNEY_DATASET_Normal_Cyst_Tumor_Stone/Testing_Data/Cyst_Testing/Cyst-(100).jpg' #change to location of abd x-ray\n",
        "img_path2='/content/drive/MyDrive/CT_KIDNEY_DATASET_Normal_Cyst_Tumor_Stone/CT_KIDNEY_DATASET_Normal_Cyst_Tumor_Stone/Testing_Data/Normal_Testing/Normal-(91).jpg'  #change to location of chest x-ray\n",
        "img = load_img(img_path, target_size=(img_width, img_height))\n",
        "img2 = load_img(img_path2, target_size=(img_width, img_height))\n",
        "plt.imshow(img)\n",
        "plt.show()\n",
        "\n",
        "img = img_to_array(img)\n",
        "x = np.expand_dims(img, axis=0) * 1./255\n",
        "score = model.predict(x)\n",
        "print('Predicted:', score, 'Chest X-ray' if score < 0.5 else 'Abd X-ray')\n",
        "\n",
        "plt.imshow(img2)\n",
        "plt.show()\n",
        "\n",
        "img = img_to_array(img2)\n",
        "x = np.expand_dims(img2, axis=0) * 1./255\n",
        "score2 = model.predict(x)\n",
        "print('Predicted:', score2, 'Chest X-ray' if score2 < 0.5 else 'Abd X-ray')\n",
        "'''\n",
        "# Set the path to your test data directory\n",
        "test_data_dir = '/content/drive/MyDrive/CT_KIDNEY_DATASET_Normal_Cyst_Tumor_Stone/CT_KIDNEY_DATASET_Normal_Cyst_Tumor_Stone/Testing_Data'\n",
        "\n",
        "# Use the ImageDataGenerator to rescale the test data\n",
        "test_datagen = ImageDataGenerator(rescale=1. / 255)\n",
        "\n",
        "# Generate the test data from the directory\n",
        "test_generator = test_datagen.flow_from_directory(\n",
        "    test_data_dir,\n",
        "    target_size=(img_width, img_height),\n",
        "    batch_size=5,\n",
        "    class_mode='categorical',\n",
        "    shuffle=False)\n",
        "\n",
        "# Evaluate the model on the test data\n",
        "test_loss, test_accuracy = model.evaluate_generator(\n",
        "    test_generator,\n",
        "    steps=test_generator.samples // 5)\n",
        "\n",
        "print('Test Loss:', test_loss)\n",
        "print('Test Accuracy:', test_accuracy)\n"
      ],
      "metadata": {
        "colab": {
          "base_uri": "https://localhost:8080/"
        },
        "id": "yASL2D2y7sC_",
        "outputId": "6d2ea6e4-40f8-425c-e04a-7ea9c6c8d34f"
      },
      "execution_count": null,
      "outputs": [
        {
          "output_type": "stream",
          "name": "stdout",
          "text": [
            "Found 30 images belonging to 3 classes.\n"
          ]
        },
        {
          "output_type": "stream",
          "name": "stderr",
          "text": [
            "<ipython-input-12-a2a01c11f7af>:42: UserWarning: `Model.evaluate_generator` is deprecated and will be removed in a future version. Please use `Model.evaluate`, which supports generators.\n",
            "  test_loss, test_accuracy = model.evaluate_generator(\n"
          ]
        },
        {
          "output_type": "stream",
          "name": "stdout",
          "text": [
            "Test Loss: 1.2161352634429932\n",
            "Test Accuracy: 0.6666666865348816\n"
          ]
        }
      ]
    },
    {
      "cell_type": "code",
      "source": [
        "import numpy as np\n",
        "from tensorflow.keras.preprocessing import image\n",
        "\n",
        "# Load and preprocess the image\n",
        "img_path = '/content/drive/MyDrive/CT_KIDNEY_DATASET_Normal_Cyst_Tumor_Stone/CT_KIDNEY_DATASET_Normal_Cyst_Tumor_Stone/Training_Data/Tumor_Training/Tumor-(36).jpg'\n",
        "img = image.load_img(img_path, target_size=(img_width, img_height))\n",
        "img_array = image.img_to_array(img)\n",
        "img_array = np.expand_dims(img_array, axis=0)\n",
        "img_array /= 255.0\n",
        "\n",
        "# Make predictions\n",
        "predictions = model.predict(img_array)\n",
        "predicted_class = np.argmax(predictions, axis=1)\n",
        "\n",
        "# Get the class label\n",
        "class_labels = ['Tumor', 'Normal', 'Cyst']  # Replace with your actual class labels\n",
        "predicted_label = class_labels[predicted_class[0]]\n",
        "\n",
        "# Print the predicted label\n",
        "print(\"Predicted category: \", predicted_label)\n"
      ],
      "metadata": {
        "colab": {
          "base_uri": "https://localhost:8080/"
        },
        "id": "B_2xuhQp-DX2",
        "outputId": "e40bc10f-644e-44d3-9466-6884e664750a"
      },
      "execution_count": null,
      "outputs": [
        {
          "output_type": "stream",
          "name": "stdout",
          "text": [
            "1/1 [==============================] - 1s 1s/step\n",
            "Predicted category:  Cyst\n"
          ]
        }
      ]
    }
  ]
}